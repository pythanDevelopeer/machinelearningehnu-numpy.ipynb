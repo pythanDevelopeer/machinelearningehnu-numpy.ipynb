{
 "cells": [
  {
   "cell_type": "code",
   "execution_count": 2,
   "id": "d7c4fcba-71d4-475d-9180-79382d5d6fe2",
   "metadata": {},
   "outputs": [],
   "source": [
    "import numpy as np"
   ]
  },
  {
   "cell_type": "code",
   "execution_count": 3,
   "id": "258c6eef-cebb-4e47-a74b-025ec991a87c",
   "metadata": {},
   "outputs": [],
   "source": [
    "test_array=np.array([1,2,3,4])"
   ]
  },
  {
   "cell_type": "code",
   "execution_count": 4,
   "id": "6d385620-344d-4f52-ab6e-9883cef281e3",
   "metadata": {},
   "outputs": [
    {
     "data": {
      "text/plain": [
       "array([1, 2, 3, 4])"
      ]
     },
     "execution_count": 4,
     "metadata": {},
     "output_type": "execute_result"
    }
   ],
   "source": [
    "test_array"
   ]
  },
  {
   "cell_type": "code",
   "execution_count": 5,
   "id": "ab3e35df-b9f0-4719-848e-7400c7d0f373",
   "metadata": {},
   "outputs": [],
   "source": [
    "ones=np.ones((3,4))"
   ]
  },
  {
   "cell_type": "code",
   "execution_count": 6,
   "id": "dbe1c5cc-762f-4ef2-b93b-1097da4f1b92",
   "metadata": {},
   "outputs": [
    {
     "data": {
      "text/plain": [
       "array([[1., 1., 1., 1.],\n",
       "       [1., 1., 1., 1.],\n",
       "       [1., 1., 1., 1.]])"
      ]
     },
     "execution_count": 6,
     "metadata": {},
     "output_type": "execute_result"
    }
   ],
   "source": [
    "ones"
   ]
  },
  {
   "cell_type": "code",
   "execution_count": 7,
   "id": "97173a53-098a-4482-8afc-8b5afa084c3e",
   "metadata": {},
   "outputs": [
    {
     "data": {
      "text/plain": [
       "numpy.ndarray"
      ]
     },
     "execution_count": 7,
     "metadata": {},
     "output_type": "execute_result"
    }
   ],
   "source": [
    "type(ones)"
   ]
  },
  {
   "cell_type": "code",
   "execution_count": 8,
   "id": "3b60732d-1f86-4d6e-b123-fffec4da6b25",
   "metadata": {},
   "outputs": [],
   "source": [
    "ones=np.ones((2,4))"
   ]
  },
  {
   "cell_type": "code",
   "execution_count": 9,
   "id": "b76e0973-c010-406a-b67c-a506f980703b",
   "metadata": {},
   "outputs": [
    {
     "data": {
      "text/plain": [
       "array([[1., 1., 1., 1.],\n",
       "       [1., 1., 1., 1.]])"
      ]
     },
     "execution_count": 9,
     "metadata": {},
     "output_type": "execute_result"
    }
   ],
   "source": [
    "ones"
   ]
  },
  {
   "cell_type": "code",
   "execution_count": 10,
   "id": "a60e8c08-6cdc-4c8d-8507-5896858bb8db",
   "metadata": {},
   "outputs": [],
   "source": [
    "zero=np.zeros((2,4))"
   ]
  },
  {
   "cell_type": "code",
   "execution_count": 11,
   "id": "e7f19674-a70d-42e4-b953-6bb1a1b281b2",
   "metadata": {},
   "outputs": [
    {
     "data": {
      "text/plain": [
       "array([[0., 0., 0., 0.],\n",
       "       [0., 0., 0., 0.]])"
      ]
     },
     "execution_count": 11,
     "metadata": {},
     "output_type": "execute_result"
    }
   ],
   "source": [
    "zero"
   ]
  },
  {
   "cell_type": "code",
   "execution_count": 12,
   "id": "64e11c7b-7d3e-40f7-a7e1-f87037797765",
   "metadata": {},
   "outputs": [],
   "source": [
    "range_array=np.arange(0,10,3)"
   ]
  },
  {
   "cell_type": "code",
   "execution_count": 13,
   "id": "4db30cd5-d5e5-4217-9f3b-88666b992ffe",
   "metadata": {},
   "outputs": [
    {
     "data": {
      "text/plain": [
       "array([0, 3, 6, 9])"
      ]
     },
     "execution_count": 13,
     "metadata": {},
     "output_type": "execute_result"
    }
   ],
   "source": [
    "range_array"
   ]
  },
  {
   "cell_type": "code",
   "execution_count": 14,
   "id": "00b7819a-eb8c-4b8c-80bc-51e45bdc1572",
   "metadata": {},
   "outputs": [
    {
     "data": {
      "text/plain": [
       "array([[3, 5, 1],\n",
       "       [4, 2, 4]])"
      ]
     },
     "execution_count": 14,
     "metadata": {},
     "output_type": "execute_result"
    }
   ],
   "source": [
    "random_matrix=np.random.randint(0,10,size=(2,3))\n",
    "random_matrix"
   ]
  },
  {
   "cell_type": "code",
   "execution_count": 15,
   "id": "5cf35cb0-d08e-4040-b869-940ddf87c85d",
   "metadata": {},
   "outputs": [
    {
     "data": {
      "text/plain": [
       "6"
      ]
     },
     "execution_count": 15,
     "metadata": {},
     "output_type": "execute_result"
    }
   ],
   "source": [
    "random_matrix.size"
   ]
  },
  {
   "cell_type": "code",
   "execution_count": 16,
   "id": "47ba0f66-fd65-4c3c-95c5-692aea43ef23",
   "metadata": {},
   "outputs": [
    {
     "data": {
      "text/plain": [
       "(2, 3)"
      ]
     },
     "execution_count": 16,
     "metadata": {},
     "output_type": "execute_result"
    }
   ],
   "source": [
    "random_matrix.shape"
   ]
  },
  {
   "cell_type": "code",
   "execution_count": 17,
   "id": "7cf5c699-1d69-4619-b10b-681d847323b9",
   "metadata": {},
   "outputs": [
    {
     "data": {
      "text/plain": [
       "array([[0.5488135 , 0.71518937, 0.60276338, 0.54488318, 0.4236548 ],\n",
       "       [0.64589411, 0.43758721, 0.891773  , 0.96366276, 0.38344152],\n",
       "       [0.79172504, 0.52889492, 0.56804456, 0.92559664, 0.07103606]])"
      ]
     },
     "execution_count": 17,
     "metadata": {},
     "output_type": "execute_result"
    }
   ],
   "source": [
    "np.random.seed(seed=0)\n",
    "rand_matrix=np.random.rand(3,5)\n",
    "rand_matrix"
   ]
  },
  {
   "cell_type": "code",
   "execution_count": 18,
   "id": "836604c4-8069-493b-8be8-af17f1363506",
   "metadata": {},
   "outputs": [
    {
     "data": {
      "text/plain": [
       "9.042960048565472"
      ]
     },
     "execution_count": 18,
     "metadata": {},
     "output_type": "execute_result"
    }
   ],
   "source": [
    "rand_matrix.sum()"
   ]
  },
  {
   "cell_type": "code",
   "execution_count": 19,
   "id": "dbbbca55-bbd9-4d56-9230-fecd9d146ec4",
   "metadata": {},
   "outputs": [
    {
     "data": {
      "text/plain": [
       "9.042960048565472"
      ]
     },
     "execution_count": 19,
     "metadata": {},
     "output_type": "execute_result"
    }
   ],
   "source": [
    "rand_matrix.sum()"
   ]
  },
  {
   "cell_type": "code",
   "execution_count": 20,
   "id": "2e215309-154e-47f7-9040-8c21b65276ff",
   "metadata": {},
   "outputs": [
    {
     "data": {
      "text/plain": [
       "9.042960048565472"
      ]
     },
     "execution_count": 20,
     "metadata": {},
     "output_type": "execute_result"
    }
   ],
   "source": [
    "rand_matrix.sum()"
   ]
  },
  {
   "cell_type": "markdown",
   "id": "c891f5da-6180-4e6d-8f0e-2deaa4fa58a3",
   "metadata": {},
   "source": [
    "Acceesing element in numpy"
   ]
  },
  {
   "cell_type": "code",
   "execution_count": 22,
   "id": "a3a2df0f-80c6-497b-9dc6-1ca6b93c7194",
   "metadata": {},
   "outputs": [],
   "source": [
    "a2d=np.array([[1,2,3,4,5],[4,3,6,7,8]])"
   ]
  },
  {
   "cell_type": "code",
   "execution_count": 23,
   "id": "ab5596eb-dcfe-4603-adc0-e6eee5bb1b70",
   "metadata": {},
   "outputs": [
    {
     "data": {
      "text/plain": [
       "array([[1, 2, 3, 4, 5],\n",
       "       [4, 3, 6, 7, 8]])"
      ]
     },
     "execution_count": 23,
     "metadata": {},
     "output_type": "execute_result"
    }
   ],
   "source": [
    "a2d"
   ]
  },
  {
   "cell_type": "code",
   "execution_count": 24,
   "id": "cd924bcc-ecef-4551-8a2f-2b7bbf7db1bb",
   "metadata": {},
   "outputs": [],
   "source": [
    "a3d=np.array([[[1,2,3,4,5],[4,3,6,7,8],[1,2,3,4,5],[4,3,6,7,8]]])"
   ]
  },
  {
   "cell_type": "code",
   "execution_count": 25,
   "id": "f4769008-be52-47c7-82be-f4538ae64fce",
   "metadata": {},
   "outputs": [
    {
     "data": {
      "text/plain": [
       "array([[[1, 2, 3, 4, 5],\n",
       "        [4, 3, 6, 7, 8],\n",
       "        [1, 2, 3, 4, 5],\n",
       "        [4, 3, 6, 7, 8]]])"
      ]
     },
     "execution_count": 25,
     "metadata": {},
     "output_type": "execute_result"
    }
   ],
   "source": [
    "a3d"
   ]
  },
  {
   "cell_type": "code",
   "execution_count": 26,
   "id": "db804173-c918-41ad-8705-91dc7c924aad",
   "metadata": {},
   "outputs": [],
   "source": [
    "a1d=np.array([1,2,3,4,5])"
   ]
  },
  {
   "cell_type": "code",
   "execution_count": 27,
   "id": "20279ba2-bc5a-4058-ba9a-d89825c8d2b1",
   "metadata": {},
   "outputs": [
    {
     "data": {
      "text/plain": [
       "array([1, 2, 3, 4, 5])"
      ]
     },
     "execution_count": 27,
     "metadata": {},
     "output_type": "execute_result"
    }
   ],
   "source": [
    "a1d"
   ]
  },
  {
   "cell_type": "code",
   "execution_count": 28,
   "id": "0dabbfed-a505-4bca-986a-80cc7cd193d5",
   "metadata": {},
   "outputs": [
    {
     "data": {
      "text/plain": [
       "array([[1, 2, 3, 4, 5],\n",
       "       [4, 3, 6, 7, 8]])"
      ]
     },
     "execution_count": 28,
     "metadata": {},
     "output_type": "execute_result"
    }
   ],
   "source": [
    "a2d"
   ]
  },
  {
   "cell_type": "code",
   "execution_count": 29,
   "id": "1335533b-709c-4c5a-904c-de239ff84ca0",
   "metadata": {},
   "outputs": [
    {
     "data": {
      "text/plain": [
       "array([1, 2, 3, 4, 5])"
      ]
     },
     "execution_count": 29,
     "metadata": {},
     "output_type": "execute_result"
    }
   ],
   "source": [
    "a2d[0]"
   ]
  },
  {
   "cell_type": "code",
   "execution_count": 30,
   "id": "93b21a5d-734b-4357-b99f-8260523e5a45",
   "metadata": {},
   "outputs": [
    {
     "data": {
      "text/plain": [
       "array([4, 3, 6, 7, 8])"
      ]
     },
     "execution_count": 30,
     "metadata": {},
     "output_type": "execute_result"
    }
   ],
   "source": [
    "a2d[1]"
   ]
  },
  {
   "cell_type": "code",
   "execution_count": 31,
   "id": "d0524041-5dcd-46d9-9cd9-0a6699b708fd",
   "metadata": {},
   "outputs": [
    {
     "data": {
      "text/plain": [
       "array([[[1, 2, 3, 4, 5],\n",
       "        [4, 3, 6, 7, 8],\n",
       "        [1, 2, 3, 4, 5],\n",
       "        [4, 3, 6, 7, 8]]])"
      ]
     },
     "execution_count": 31,
     "metadata": {},
     "output_type": "execute_result"
    }
   ],
   "source": [
    "a3d"
   ]
  },
  {
   "cell_type": "code",
   "execution_count": 32,
   "id": "b89f7e97-6024-4017-ba90-34e1603757e7",
   "metadata": {},
   "outputs": [
    {
     "data": {
      "text/plain": [
       "array([[1, 2, 3, 4, 5],\n",
       "       [4, 3, 6, 7, 8],\n",
       "       [1, 2, 3, 4, 5],\n",
       "       [4, 3, 6, 7, 8]])"
      ]
     },
     "execution_count": 32,
     "metadata": {},
     "output_type": "execute_result"
    }
   ],
   "source": [
    "a3d[0]"
   ]
  },
  {
   "cell_type": "code",
   "execution_count": 33,
   "id": "2fe40fd5-4161-4d7c-8d09-0addde73c65d",
   "metadata": {},
   "outputs": [],
   "source": [
    "a3d=np.array([[[1,2,3],[4,5,6]],[[7,8,9],[9,0,1]]])\n"
   ]
  },
  {
   "cell_type": "code",
   "execution_count": 34,
   "id": "a3081184-cec2-4960-8141-1be4c99e15b0",
   "metadata": {},
   "outputs": [
    {
     "data": {
      "text/plain": [
       "array([[[1, 2, 3],\n",
       "        [4, 5, 6]],\n",
       "\n",
       "       [[7, 8, 9],\n",
       "        [9, 0, 1]]])"
      ]
     },
     "execution_count": 34,
     "metadata": {},
     "output_type": "execute_result"
    }
   ],
   "source": [
    "a3d"
   ]
  },
  {
   "cell_type": "code",
   "execution_count": 35,
   "id": "dd502701-22de-43d5-9e13-060c90266507",
   "metadata": {},
   "outputs": [
    {
     "data": {
      "text/plain": [
       "numpy.ndarray"
      ]
     },
     "execution_count": 35,
     "metadata": {},
     "output_type": "execute_result"
    }
   ],
   "source": [
    "type(a3d)"
   ]
  },
  {
   "cell_type": "code",
   "execution_count": 36,
   "id": "16a09fb0-c62f-4a20-a242-e6269cd0077d",
   "metadata": {},
   "outputs": [
    {
     "data": {
      "text/plain": [
       "dtype('int32')"
      ]
     },
     "execution_count": 36,
     "metadata": {},
     "output_type": "execute_result"
    }
   ],
   "source": [
    "a3d.dtype"
   ]
  },
  {
   "cell_type": "code",
   "execution_count": 37,
   "id": "7465d9f1-6155-42fe-a6b7-90a5adb47c80",
   "metadata": {},
   "outputs": [
    {
     "data": {
      "text/plain": [
       "array([[1, 2, 3],\n",
       "       [4, 5, 6]])"
      ]
     },
     "execution_count": 37,
     "metadata": {},
     "output_type": "execute_result"
    }
   ],
   "source": [
    "a3d[0]"
   ]
  },
  {
   "cell_type": "code",
   "execution_count": 38,
   "id": "630b3a4f-328b-4e40-86eb-3e22f39b8af9",
   "metadata": {},
   "outputs": [
    {
     "data": {
      "text/plain": [
       "array([1, 2, 3])"
      ]
     },
     "execution_count": 38,
     "metadata": {},
     "output_type": "execute_result"
    }
   ],
   "source": [
    "a3d[0][0]"
   ]
  },
  {
   "cell_type": "code",
   "execution_count": 39,
   "id": "730bf658-93a3-41d8-a15e-c09d11e0d0ad",
   "metadata": {},
   "outputs": [
    {
     "data": {
      "text/plain": [
       "array([[[[9, 4, 3, 0, 3],\n",
       "         [5, 0, 2, 3, 8],\n",
       "         [1, 3, 3, 3, 7],\n",
       "         [0, 1, 9, 9, 0]],\n",
       "\n",
       "        [[4, 7, 3, 2, 7],\n",
       "         [2, 0, 0, 4, 5],\n",
       "         [5, 6, 8, 4, 1],\n",
       "         [4, 9, 8, 1, 1]],\n",
       "\n",
       "        [[7, 9, 9, 3, 6],\n",
       "         [7, 2, 0, 3, 5],\n",
       "         [9, 4, 4, 6, 4],\n",
       "         [4, 3, 4, 4, 8]]],\n",
       "\n",
       "\n",
       "       [[[4, 3, 7, 5, 5],\n",
       "         [0, 1, 5, 9, 3],\n",
       "         [0, 5, 0, 1, 2],\n",
       "         [4, 2, 0, 3, 2]],\n",
       "\n",
       "        [[0, 7, 5, 9, 0],\n",
       "         [2, 7, 2, 9, 2],\n",
       "         [3, 3, 2, 3, 4],\n",
       "         [1, 2, 9, 1, 4]],\n",
       "\n",
       "        [[6, 8, 2, 3, 0],\n",
       "         [0, 6, 0, 6, 3],\n",
       "         [3, 8, 8, 8, 2],\n",
       "         [3, 2, 0, 8, 8]]]])"
      ]
     },
     "execution_count": 39,
     "metadata": {},
     "output_type": "execute_result"
    }
   ],
   "source": [
    "arandom=np.random.randint(10 ,size=(2,3,4,5))\n",
    "arandom"
   ]
  },
  {
   "cell_type": "markdown",
   "id": "b7293c1f-6be5-4730-b87f-265cf10e5b2d",
   "metadata": {},
   "source": [
    "array manuplation"
   ]
  },
  {
   "cell_type": "code",
   "execution_count": 41,
   "id": "58ddcc6b-8e2a-4fc1-8a93-94b615dcb447",
   "metadata": {},
   "outputs": [
    {
     "data": {
      "text/plain": [
       "array([[1., 1., 1., 1.],\n",
       "       [1., 1., 1., 1.]])"
      ]
     },
     "execution_count": 41,
     "metadata": {},
     "output_type": "execute_result"
    }
   ],
   "source": [
    "ones"
   ]
  },
  {
   "cell_type": "code",
   "execution_count": 42,
   "id": "1f024ca7-2808-4270-8a2b-b1141153ea6a",
   "metadata": {},
   "outputs": [],
   "source": [
    "a1d=np.array([1,2,3,4])"
   ]
  },
  {
   "cell_type": "markdown",
   "id": "d8416253-93a4-4c96-87fd-2340fc34853b",
   "metadata": {},
   "source": [
    "a1d"
   ]
  },
  {
   "cell_type": "code",
   "execution_count": 44,
   "id": "bdf15035-83f4-4fdc-92dd-cbc49b387e52",
   "metadata": {},
   "outputs": [
    {
     "data": {
      "text/plain": [
       "array([1, 2, 3, 4])"
      ]
     },
     "execution_count": 44,
     "metadata": {},
     "output_type": "execute_result"
    }
   ],
   "source": [
    "a1d"
   ]
  },
  {
   "cell_type": "code",
   "execution_count": 45,
   "id": "82589019-3978-4dce-969f-f573147c0dd8",
   "metadata": {},
   "outputs": [
    {
     "data": {
      "text/plain": [
       "array([[2., 3., 4., 5.],\n",
       "       [2., 3., 4., 5.]])"
      ]
     },
     "execution_count": 45,
     "metadata": {},
     "output_type": "execute_result"
    }
   ],
   "source": [
    "a1d+ones"
   ]
  },
  {
   "cell_type": "code",
   "execution_count": 46,
   "id": "7eedb26f-5f89-497b-9aa4-3d62b7554a00",
   "metadata": {},
   "outputs": [
    {
     "data": {
      "text/plain": [
       "array([[0., 1., 2., 3.],\n",
       "       [0., 1., 2., 3.]])"
      ]
     },
     "execution_count": 46,
     "metadata": {},
     "output_type": "execute_result"
    }
   ],
   "source": [
    "a1d-ones"
   ]
  },
  {
   "cell_type": "code",
   "execution_count": 47,
   "id": "6fa57e2f-d024-44d6-a059-0d0de8b56235",
   "metadata": {},
   "outputs": [
    {
     "data": {
      "text/plain": [
       "array([[1., 2., 3., 4.],\n",
       "       [1., 2., 3., 4.]])"
      ]
     },
     "execution_count": 47,
     "metadata": {},
     "output_type": "execute_result"
    }
   ],
   "source": [
    "a1d*ones"
   ]
  },
  {
   "cell_type": "code",
   "execution_count": 48,
   "id": "5c3ad360-2747-4250-b382-c581372dbfa8",
   "metadata": {},
   "outputs": [],
   "source": [
    "a2d=np.array([[2., 3., 4., 5.],[6,7,8,9]])"
   ]
  },
  {
   "cell_type": "code",
   "execution_count": 49,
   "id": "81d29fd8-9b59-4d6e-8be1-a9ab95272690",
   "metadata": {},
   "outputs": [
    {
     "data": {
      "text/plain": [
       "array([[2., 3., 4., 5.],\n",
       "       [6., 7., 8., 9.]])"
      ]
     },
     "execution_count": 49,
     "metadata": {},
     "output_type": "execute_result"
    }
   ],
   "source": [
    "a2d"
   ]
  },
  {
   "cell_type": "code",
   "execution_count": 50,
   "id": "dc1dfb3d-77ae-4144-ac0e-e61604004f10",
   "metadata": {},
   "outputs": [],
   "source": [
    "a3d=np.array([[1,2,3,4,5],[7,9,0,7,6]])"
   ]
  },
  {
   "cell_type": "code",
   "execution_count": 51,
   "id": "3f7bec49-eee1-4c03-b2f7-441c4ad256c9",
   "metadata": {},
   "outputs": [
    {
     "data": {
      "text/plain": [
       "array([[1, 2, 3, 4, 5],\n",
       "       [7, 9, 0, 7, 6]])"
      ]
     },
     "execution_count": 51,
     "metadata": {},
     "output_type": "execute_result"
    }
   ],
   "source": [
    "a3d"
   ]
  },
  {
   "cell_type": "code",
   "execution_count": 52,
   "id": "b55bf973-6ef7-4fee-9b5c-2aa38343432a",
   "metadata": {},
   "outputs": [
    {
     "data": {
      "text/plain": [
       "array([[1, 2, 3, 4],\n",
       "       [7, 9, 0, 7]])"
      ]
     },
     "execution_count": 52,
     "metadata": {},
     "output_type": "execute_result"
    }
   ],
   "source": [
    "t=a3d[:2,:4]\n",
    "t"
   ]
  },
  {
   "cell_type": "code",
   "execution_count": 53,
   "id": "738e67f9-e97e-475b-85e9-fca9f98926dd",
   "metadata": {},
   "outputs": [
    {
     "data": {
      "text/plain": [
       "array([[ 2.,  6., 12., 20.],\n",
       "       [42., 63.,  0., 63.]])"
      ]
     },
     "execution_count": 53,
     "metadata": {},
     "output_type": "execute_result"
    }
   ],
   "source": [
    "t*a2d"
   ]
  },
  {
   "cell_type": "markdown",
   "id": "3d7b96fd-ede2-422e-bdaa-4809605bbaeb",
   "metadata": {},
   "source": [
    "Agregation"
   ]
  },
  {
   "cell_type": "code",
   "execution_count": 55,
   "id": "b4f10a2b-8145-4678-9d85-ec35945850c1",
   "metadata": {},
   "outputs": [
    {
     "data": {
      "text/plain": [
       "array([1, 2, 3, 4])"
      ]
     },
     "execution_count": 55,
     "metadata": {},
     "output_type": "execute_result"
    }
   ],
   "source": [
    "a1d"
   ]
  },
  {
   "cell_type": "code",
   "execution_count": 56,
   "id": "99c64013-493b-4589-a6a7-caae26b03586",
   "metadata": {},
   "outputs": [
    {
     "data": {
      "text/plain": [
       "10"
      ]
     },
     "execution_count": 56,
     "metadata": {},
     "output_type": "execute_result"
    }
   ],
   "source": [
    "sum(a1d)"
   ]
  },
  {
   "cell_type": "code",
   "execution_count": 57,
   "id": "75b46d9c-520c-4695-920b-d977fe7da724",
   "metadata": {},
   "outputs": [],
   "source": [
    "lambi_array=np.random.random(10000)"
   ]
  },
  {
   "cell_type": "code",
   "execution_count": 58,
   "id": "83baf46f-3030-4747-ab7c-eb67a7785195",
   "metadata": {},
   "outputs": [
    {
     "data": {
      "text/plain": [
       "10000"
      ]
     },
     "execution_count": 58,
     "metadata": {},
     "output_type": "execute_result"
    }
   ],
   "source": [
    "lambi_array.size"
   ]
  },
  {
   "cell_type": "code",
   "execution_count": 59,
   "id": "725fc549-90cd-4f50-9117-8a14336ef1a5",
   "metadata": {},
   "outputs": [
    {
     "data": {
      "text/plain": [
       "array([0.57615733, 0.59204193, 0.57225191, 0.22308163, 0.95274901,\n",
       "       0.44712538, 0.84640867, 0.69947928, 0.29743695, 0.81379782,\n",
       "       0.39650574, 0.8811032 , 0.58127287, 0.88173536, 0.69253159,\n",
       "       0.72525428, 0.50132438, 0.95608363, 0.6439902 , 0.42385505])"
      ]
     },
     "execution_count": 59,
     "metadata": {},
     "output_type": "execute_result"
    }
   ],
   "source": [
    "lambi_array[:20]"
   ]
  },
  {
   "cell_type": "code",
   "execution_count": 60,
   "id": "c025a3ba-aa72-425f-bd80-a79d1984898d",
   "metadata": {},
   "outputs": [
    {
     "name": "stdout",
     "output_type": "stream",
     "text": [
      "784 μs ± 50.5 μs per loop (mean ± std. dev. of 7 runs, 1,000 loops each)\n",
      "6.54 μs ± 197 ns per loop (mean ± std. dev. of 7 runs, 100,000 loops each)\n"
     ]
    }
   ],
   "source": [
    "%timeit sum(lambi_array)\n",
    "%timeit np.sum(lambi_array)"
   ]
  },
  {
   "cell_type": "code",
   "execution_count": 61,
   "id": "f06868dc-fdea-4b2f-9598-93032e0f65c7",
   "metadata": {},
   "outputs": [
    {
     "data": {
      "text/plain": [
       "array([1, 2, 3, 4])"
      ]
     },
     "execution_count": 61,
     "metadata": {},
     "output_type": "execute_result"
    }
   ],
   "source": [
    "a1d"
   ]
  },
  {
   "cell_type": "code",
   "execution_count": 62,
   "id": "6d0caa34-a49c-4e7f-bd69-4587ad04f1bd",
   "metadata": {},
   "outputs": [
    {
     "data": {
      "text/plain": [
       "2.5"
      ]
     },
     "execution_count": 62,
     "metadata": {},
     "output_type": "execute_result"
    }
   ],
   "source": [
    "np.mean(a1d)"
   ]
  },
  {
   "cell_type": "code",
   "execution_count": 63,
   "id": "d00d10db-b1c6-44a1-bf3d-32ac510ac6dd",
   "metadata": {},
   "outputs": [
    {
     "data": {
      "text/plain": [
       "1.25"
      ]
     },
     "execution_count": 63,
     "metadata": {},
     "output_type": "execute_result"
    }
   ],
   "source": [
    "np.var(a1d)"
   ]
  },
  {
   "cell_type": "code",
   "execution_count": 64,
   "id": "dac908d3-b1c7-4cdc-8632-27e0e47aaaa8",
   "metadata": {},
   "outputs": [
    {
     "data": {
      "text/plain": [
       "1.118033988749895"
      ]
     },
     "execution_count": 64,
     "metadata": {},
     "output_type": "execute_result"
    }
   ],
   "source": [
    "np.sqrt(np.var(a1d))"
   ]
  },
  {
   "cell_type": "code",
   "execution_count": 65,
   "id": "2be3d2e0-5ba3-4f13-afa0-e1b48748b783",
   "metadata": {},
   "outputs": [
    {
     "data": {
      "text/plain": [
       "1.118033988749895"
      ]
     },
     "execution_count": 65,
     "metadata": {},
     "output_type": "execute_result"
    }
   ],
   "source": [
    "np.std(a1d)"
   ]
  },
  {
   "cell_type": "code",
   "execution_count": 66,
   "id": "a3c49f8f-1d04-45e8-b448-85162b0c132f",
   "metadata": {},
   "outputs": [],
   "source": [
    "np.random.seed(seed=0)\n",
    "matrix_1=np.random.randint(10,size=(3,4))\n",
    "matrix_2=np.random.randint(10,size=(3,4))"
   ]
  },
  {
   "cell_type": "code",
   "execution_count": 67,
   "id": "0005e2d9-c8c3-401c-bb97-89bf0b2e7d7e",
   "metadata": {},
   "outputs": [
    {
     "data": {
      "text/plain": [
       "array([[5, 0, 3, 3],\n",
       "       [7, 9, 3, 5],\n",
       "       [2, 4, 7, 6]])"
      ]
     },
     "execution_count": 67,
     "metadata": {},
     "output_type": "execute_result"
    }
   ],
   "source": [
    "matrix_1"
   ]
  },
  {
   "cell_type": "code",
   "execution_count": 68,
   "id": "324059b8-b650-43e0-b41b-1dbeb896ed1c",
   "metadata": {},
   "outputs": [
    {
     "data": {
      "text/plain": [
       "array([[8, 8, 1, 6],\n",
       "       [7, 7, 8, 1],\n",
       "       [5, 9, 8, 9]])"
      ]
     },
     "execution_count": 68,
     "metadata": {},
     "output_type": "execute_result"
    }
   ],
   "source": [
    "matrix_2"
   ]
  },
  {
   "cell_type": "code",
   "execution_count": 69,
   "id": "a627ae27-6d89-4e4a-a65f-f1266f30ccb6",
   "metadata": {},
   "outputs": [
    {
     "data": {
      "text/plain": [
       "array([[40,  0,  3, 18],\n",
       "       [49, 63, 24,  5],\n",
       "       [10, 36, 56, 54]])"
      ]
     },
     "execution_count": 69,
     "metadata": {},
     "output_type": "execute_result"
    }
   ],
   "source": [
    "matrix_1*matrix_2"
   ]
  },
  {
   "cell_type": "code",
   "execution_count": 70,
   "id": "04e3d219-3acb-4f14-8ea2-d7e7bd303d95",
   "metadata": {},
   "outputs": [
    {
     "data": {
      "text/plain": [
       "array([[ 61,  62,  76],\n",
       "       [161, 141, 185],\n",
       "       [ 91, 104, 156]])"
      ]
     },
     "execution_count": 70,
     "metadata": {},
     "output_type": "execute_result"
    }
   ],
   "source": [
    "matrix_1.dot(matrix_2.T)"
   ]
  },
  {
   "cell_type": "code",
   "execution_count": 71,
   "id": "89b0e6a2-4cb1-4461-ae3f-f6a0f257d2bb",
   "metadata": {},
   "outputs": [
    {
     "data": {
      "text/plain": [
       "((3, 4), (4, 3))"
      ]
     },
     "execution_count": 71,
     "metadata": {},
     "output_type": "execute_result"
    }
   ],
   "source": [
    "matrix_1.shape ,matrix_2.T.shape"
   ]
  },
  {
   "cell_type": "code",
   "execution_count": null,
   "id": "37a36c2e-4b7e-4970-805b-fa929f3e11d3",
   "metadata": {},
   "outputs": [],
   "source": []
  },
  {
   "cell_type": "markdown",
   "id": "8413566d-dfbd-4364-8193-512eea6c660e",
   "metadata": {},
   "source": [
    "Reshape and Transpose"
   ]
  },
  {
   "cell_type": "code",
   "execution_count": 73,
   "id": "033ebce4-2a26-4b1d-982e-584b60d0d3c3",
   "metadata": {},
   "outputs": [
    {
     "data": {
      "text/plain": [
       "array([[2., 3., 4., 5.],\n",
       "       [6., 7., 8., 9.]])"
      ]
     },
     "execution_count": 73,
     "metadata": {},
     "output_type": "execute_result"
    }
   ],
   "source": [
    "a2d"
   ]
  },
  {
   "cell_type": "code",
   "execution_count": 74,
   "id": "94cbd934-7843-4cd2-9483-fe5d31705d3c",
   "metadata": {},
   "outputs": [
    {
     "data": {
      "text/plain": [
       "(2, 4)"
      ]
     },
     "execution_count": 74,
     "metadata": {},
     "output_type": "execute_result"
    }
   ],
   "source": [
    "a2d.shape"
   ]
  },
  {
   "cell_type": "code",
   "execution_count": 75,
   "id": "68f82ee0-60e6-49ca-ab7d-2b29fd34e961",
   "metadata": {},
   "outputs": [
    {
     "data": {
      "text/plain": [
       "array([[2., 6.],\n",
       "       [3., 7.],\n",
       "       [4., 8.],\n",
       "       [5., 9.]])"
      ]
     },
     "execution_count": 75,
     "metadata": {},
     "output_type": "execute_result"
    }
   ],
   "source": [
    "a2d.T"
   ]
  },
  {
   "cell_type": "code",
   "execution_count": 76,
   "id": "f89d1d9b-e53f-43ba-a119-02f1b4f8ee14",
   "metadata": {},
   "outputs": [
    {
     "data": {
      "text/plain": [
       "(4, 2)"
      ]
     },
     "execution_count": 76,
     "metadata": {},
     "output_type": "execute_result"
    }
   ],
   "source": [
    "a2d.T.shape"
   ]
  },
  {
   "cell_type": "code",
   "execution_count": 77,
   "id": "c4cf2858-e7be-4bc4-a3bb-8b0c3c867aed",
   "metadata": {},
   "outputs": [],
   "source": [
    "import pandas as pd"
   ]
  },
  {
   "cell_type": "code",
   "execution_count": 78,
   "id": "7fafe32e-c4bb-4646-8a87-97164f0f6f81",
   "metadata": {},
   "outputs": [
    {
     "data": {
      "text/plain": [
       "array([[ 5, 11, 12],\n",
       "       [ 8,  9, 11],\n",
       "       [ 5, 15,  0],\n",
       "       [16,  1, 12],\n",
       "       [ 7, 13,  6]])"
      ]
     },
     "execution_count": 78,
     "metadata": {},
     "output_type": "execute_result"
    }
   ],
   "source": [
    "np.random.seed(seed=True)\n",
    "item_amount=np.random.randint(20,size=(5,3))\n",
    "item_amount"
   ]
  },
  {
   "cell_type": "code",
   "execution_count": 79,
   "id": "19f8cd4c-cfb9-4394-8d53-7b6909b62207",
   "metadata": {},
   "outputs": [
    {
     "data": {
      "text/plain": [
       "(3,)"
      ]
     },
     "execution_count": 79,
     "metadata": {},
     "output_type": "execute_result"
    }
   ],
   "source": [
    "item_price=np.array([12,8,11])\n",
    "item_price\n",
    "item_price.shape"
   ]
  },
  {
   "cell_type": "code",
   "execution_count": 80,
   "id": "e7dc030a-0e06-4290-a8ba-4a31a04805dc",
   "metadata": {},
   "outputs": [],
   "source": [
    "item_price_df=pd.DataFrame(item_price.reshape(1,3),\n",
    "                   index=['item_price'],\n",
    "                    columns=['item1','item2','item3'])"
   ]
  },
  {
   "cell_type": "code",
   "execution_count": 81,
   "id": "84042de6-3a03-43bc-a126-fb3c287efd42",
   "metadata": {},
   "outputs": [
    {
     "data": {
      "text/plain": [
       "((1, 3), (3, 5))"
      ]
     },
     "execution_count": 81,
     "metadata": {},
     "output_type": "execute_result"
    }
   ],
   "source": [
    "item_price_df.shape,item_amount.T.shape"
   ]
  },
  {
   "cell_type": "code",
   "execution_count": 82,
   "id": "af46b678-bdd5-4d44-b5d2-9292e13dde21",
   "metadata": {},
   "outputs": [
    {
     "data": {
      "text/html": [
       "<div>\n",
       "<style scoped>\n",
       "    .dataframe tbody tr th:only-of-type {\n",
       "        vertical-align: middle;\n",
       "    }\n",
       "\n",
       "    .dataframe tbody tr th {\n",
       "        vertical-align: top;\n",
       "    }\n",
       "\n",
       "    .dataframe thead th {\n",
       "        text-align: right;\n",
       "    }\n",
       "</style>\n",
       "<table border=\"1\" class=\"dataframe\">\n",
       "  <thead>\n",
       "    <tr style=\"text-align: right;\">\n",
       "      <th></th>\n",
       "      <th>0</th>\n",
       "      <th>1</th>\n",
       "      <th>2</th>\n",
       "      <th>3</th>\n",
       "      <th>4</th>\n",
       "    </tr>\n",
       "  </thead>\n",
       "  <tbody>\n",
       "    <tr>\n",
       "      <th>item_price</th>\n",
       "      <td>280</td>\n",
       "      <td>289</td>\n",
       "      <td>180</td>\n",
       "      <td>332</td>\n",
       "      <td>254</td>\n",
       "    </tr>\n",
       "  </tbody>\n",
       "</table>\n",
       "</div>"
      ],
      "text/plain": [
       "              0    1    2    3    4\n",
       "item_price  280  289  180  332  254"
      ]
     },
     "execution_count": 82,
     "metadata": {},
     "output_type": "execute_result"
    }
   ],
   "source": [
    "total_price=item_price_df.dot(item_amount.T)\n",
    "total_price"
   ]
  },
  {
   "cell_type": "code",
   "execution_count": 83,
   "id": "a96da42e-2e20-4c0c-8232-48bb3d7fc948",
   "metadata": {},
   "outputs": [],
   "source": [
    "price=pd.DataFrame(total_price,index=['Mon','Tue','Wed','Thr','Fr'],columns=['item_price'])"
   ]
  },
  {
   "cell_type": "code",
   "execution_count": 84,
   "id": "e5258529-463d-4af8-a0ae-6ae9969cc3b0",
   "metadata": {},
   "outputs": [
    {
     "data": {
      "text/html": [
       "<div>\n",
       "<style scoped>\n",
       "    .dataframe tbody tr th:only-of-type {\n",
       "        vertical-align: middle;\n",
       "    }\n",
       "\n",
       "    .dataframe tbody tr th {\n",
       "        vertical-align: top;\n",
       "    }\n",
       "\n",
       "    .dataframe thead th {\n",
       "        text-align: right;\n",
       "    }\n",
       "</style>\n",
       "<table border=\"1\" class=\"dataframe\">\n",
       "  <thead>\n",
       "    <tr style=\"text-align: right;\">\n",
       "      <th></th>\n",
       "      <th>item_price</th>\n",
       "    </tr>\n",
       "  </thead>\n",
       "  <tbody>\n",
       "    <tr>\n",
       "      <th>Mon</th>\n",
       "      <td>NaN</td>\n",
       "    </tr>\n",
       "    <tr>\n",
       "      <th>Tue</th>\n",
       "      <td>NaN</td>\n",
       "    </tr>\n",
       "    <tr>\n",
       "      <th>Wed</th>\n",
       "      <td>NaN</td>\n",
       "    </tr>\n",
       "    <tr>\n",
       "      <th>Thr</th>\n",
       "      <td>NaN</td>\n",
       "    </tr>\n",
       "    <tr>\n",
       "      <th>Fr</th>\n",
       "      <td>NaN</td>\n",
       "    </tr>\n",
       "  </tbody>\n",
       "</table>\n",
       "</div>"
      ],
      "text/plain": [
       "     item_price\n",
       "Mon         NaN\n",
       "Tue         NaN\n",
       "Wed         NaN\n",
       "Thr         NaN\n",
       "Fr          NaN"
      ]
     },
     "execution_count": 84,
     "metadata": {},
     "output_type": "execute_result"
    }
   ],
   "source": [
    "price"
   ]
  },
  {
   "cell_type": "code",
   "execution_count": 85,
   "id": "da5267f9-de22-4df9-9e50-d7addc1b2b9d",
   "metadata": {},
   "outputs": [
    {
     "data": {
      "text/html": [
       "<div>\n",
       "<style scoped>\n",
       "    .dataframe tbody tr th:only-of-type {\n",
       "        vertical-align: middle;\n",
       "    }\n",
       "\n",
       "    .dataframe tbody tr th {\n",
       "        vertical-align: top;\n",
       "    }\n",
       "\n",
       "    .dataframe thead th {\n",
       "        text-align: right;\n",
       "    }\n",
       "</style>\n",
       "<table border=\"1\" class=\"dataframe\">\n",
       "  <thead>\n",
       "    <tr style=\"text-align: right;\">\n",
       "      <th></th>\n",
       "      <th>item1</th>\n",
       "      <th>item2</th>\n",
       "      <th>item3</th>\n",
       "    </tr>\n",
       "  </thead>\n",
       "  <tbody>\n",
       "    <tr>\n",
       "      <th>Mon</th>\n",
       "      <td>5</td>\n",
       "      <td>11</td>\n",
       "      <td>12</td>\n",
       "    </tr>\n",
       "    <tr>\n",
       "      <th>Tue</th>\n",
       "      <td>8</td>\n",
       "      <td>9</td>\n",
       "      <td>11</td>\n",
       "    </tr>\n",
       "    <tr>\n",
       "      <th>Wed</th>\n",
       "      <td>5</td>\n",
       "      <td>15</td>\n",
       "      <td>0</td>\n",
       "    </tr>\n",
       "    <tr>\n",
       "      <th>Thr</th>\n",
       "      <td>16</td>\n",
       "      <td>1</td>\n",
       "      <td>12</td>\n",
       "    </tr>\n",
       "    <tr>\n",
       "      <th>Fr</th>\n",
       "      <td>7</td>\n",
       "      <td>13</td>\n",
       "      <td>6</td>\n",
       "    </tr>\n",
       "  </tbody>\n",
       "</table>\n",
       "</div>"
      ],
      "text/plain": [
       "     item1  item2  item3\n",
       "Mon      5     11     12\n",
       "Tue      8      9     11\n",
       "Wed      5     15      0\n",
       "Thr     16      1     12\n",
       "Fr       7     13      6"
      ]
     },
     "execution_count": 85,
     "metadata": {},
     "output_type": "execute_result"
    }
   ],
   "source": [
    "weekly_sales=pd.DataFrame(item_amount,index=['Mon','Tue','Wed','Thr','Fr'],columns=['item1','item2','item3'])\n",
    "weekly_sales"
   ]
  },
  {
   "cell_type": "code",
   "execution_count": 86,
   "id": "80013b4a-8d3b-4c40-ac6a-6aabac45c60d",
   "metadata": {},
   "outputs": [],
   "source": [
    "weekly_sales['item_price']=price"
   ]
  },
  {
   "cell_type": "code",
   "execution_count": 87,
   "id": "b4c626fd-3610-4946-ad6e-076e080f6d94",
   "metadata": {},
   "outputs": [
    {
     "data": {
      "text/html": [
       "<div>\n",
       "<style scoped>\n",
       "    .dataframe tbody tr th:only-of-type {\n",
       "        vertical-align: middle;\n",
       "    }\n",
       "\n",
       "    .dataframe tbody tr th {\n",
       "        vertical-align: top;\n",
       "    }\n",
       "\n",
       "    .dataframe thead th {\n",
       "        text-align: right;\n",
       "    }\n",
       "</style>\n",
       "<table border=\"1\" class=\"dataframe\">\n",
       "  <thead>\n",
       "    <tr style=\"text-align: right;\">\n",
       "      <th></th>\n",
       "      <th>item1</th>\n",
       "      <th>item2</th>\n",
       "      <th>item3</th>\n",
       "      <th>item_price</th>\n",
       "    </tr>\n",
       "  </thead>\n",
       "  <tbody>\n",
       "    <tr>\n",
       "      <th>Mon</th>\n",
       "      <td>5</td>\n",
       "      <td>11</td>\n",
       "      <td>12</td>\n",
       "      <td>NaN</td>\n",
       "    </tr>\n",
       "    <tr>\n",
       "      <th>Tue</th>\n",
       "      <td>8</td>\n",
       "      <td>9</td>\n",
       "      <td>11</td>\n",
       "      <td>NaN</td>\n",
       "    </tr>\n",
       "    <tr>\n",
       "      <th>Wed</th>\n",
       "      <td>5</td>\n",
       "      <td>15</td>\n",
       "      <td>0</td>\n",
       "      <td>NaN</td>\n",
       "    </tr>\n",
       "    <tr>\n",
       "      <th>Thr</th>\n",
       "      <td>16</td>\n",
       "      <td>1</td>\n",
       "      <td>12</td>\n",
       "      <td>NaN</td>\n",
       "    </tr>\n",
       "    <tr>\n",
       "      <th>Fr</th>\n",
       "      <td>7</td>\n",
       "      <td>13</td>\n",
       "      <td>6</td>\n",
       "      <td>NaN</td>\n",
       "    </tr>\n",
       "  </tbody>\n",
       "</table>\n",
       "</div>"
      ],
      "text/plain": [
       "     item1  item2  item3  item_price\n",
       "Mon      5     11     12         NaN\n",
       "Tue      8      9     11         NaN\n",
       "Wed      5     15      0         NaN\n",
       "Thr     16      1     12         NaN\n",
       "Fr       7     13      6         NaN"
      ]
     },
     "execution_count": 87,
     "metadata": {},
     "output_type": "execute_result"
    }
   ],
   "source": [
    "weekly_sales"
   ]
  },
  {
   "cell_type": "code",
   "execution_count": 173,
   "id": "46732083-d329-46bc-b14f-e9c20e2080aa",
   "metadata": {},
   "outputs": [
    {
     "data": {
      "text/plain": [
       "array([[9, 2, 4, 5, 2],\n",
       "       [4, 2, 4, 7, 7],\n",
       "       [9, 1, 7, 0, 6]])"
      ]
     },
     "execution_count": 173,
     "metadata": {},
     "output_type": "execute_result"
    }
   ],
   "source": [
    "random_matrix=np.random.randint(10,size=(3,5))\n",
    "random_matrix"
   ]
  },
  {
   "cell_type": "code",
   "execution_count": 179,
   "id": "8ca49218-07d7-4587-9973-087f42d92b67",
   "metadata": {},
   "outputs": [
    {
     "data": {
      "text/plain": [
       "array([[2, 2, 4, 5, 9],\n",
       "       [2, 4, 4, 7, 7],\n",
       "       [0, 1, 6, 7, 9]])"
      ]
     },
     "execution_count": 179,
     "metadata": {},
     "output_type": "execute_result"
    }
   ],
   "source": [
    "np.sort(random_matrix,axis=1) # row sorting method "
   ]
  },
  {
   "cell_type": "code",
   "execution_count": 181,
   "id": "5195ccfe-e704-4b8d-9826-49841312a5a4",
   "metadata": {},
   "outputs": [
    {
     "data": {
      "text/plain": [
       "array([[4, 1, 4, 0, 2],\n",
       "       [9, 2, 4, 5, 6],\n",
       "       [9, 2, 7, 7, 7]])"
      ]
     },
     "execution_count": 181,
     "metadata": {},
     "output_type": "execute_result"
    }
   ],
   "source": [
    "np.sort(random_matrix,axis=0)# columns sorting method"
   ]
  },
  {
   "cell_type": "code",
   "execution_count": 183,
   "id": "30537037-83cb-48ae-a674-018c03c2f492",
   "metadata": {},
   "outputs": [
    {
     "data": {
      "text/plain": [
       "array([[1, 4, 2, 3, 0],\n",
       "       [1, 0, 2, 3, 4],\n",
       "       [3, 1, 4, 2, 0]], dtype=int64)"
      ]
     },
     "execution_count": 183,
     "metadata": {},
     "output_type": "execute_result"
    }
   ],
   "source": [
    "np.argsort(random_matrix)"
   ]
  },
  {
   "cell_type": "code",
   "execution_count": 185,
   "id": "c9a1674e-72e0-4ffa-bb2c-d78c04bc14e2",
   "metadata": {},
   "outputs": [
    {
     "data": {
      "text/plain": [
       "array([1, 1, 3], dtype=int64)"
      ]
     },
     "execution_count": 185,
     "metadata": {},
     "output_type": "execute_result"
    }
   ],
   "source": [
    "np.argmin(random_matrix,axis=1)"
   ]
  },
  {
   "cell_type": "code",
   "execution_count": 187,
   "id": "03d19576-90ee-4fbc-9cfa-4564d484bc69",
   "metadata": {},
   "outputs": [
    {
     "data": {
      "text/plain": [
       "array([[9, 2, 4, 5, 2],\n",
       "       [4, 2, 4, 7, 7],\n",
       "       [9, 1, 7, 0, 6]])"
      ]
     },
     "execution_count": 187,
     "metadata": {},
     "output_type": "execute_result"
    }
   ],
   "source": [
    "random_matrix"
   ]
  },
  {
   "cell_type": "code",
   "execution_count": 189,
   "id": "b18ebed8-2ef4-4134-b754-2c39e8db8e13",
   "metadata": {},
   "outputs": [
    {
     "data": {
      "text/plain": [
       "array([1, 2, 0, 2, 0], dtype=int64)"
      ]
     },
     "execution_count": 189,
     "metadata": {},
     "output_type": "execute_result"
    }
   ],
   "source": [
    "np.argmin(random_matrix,axis=0)"
   ]
  },
  {
   "cell_type": "code",
   "execution_count": 193,
   "id": "1363a932-fa66-466e-818c-204c4767b3a5",
   "metadata": {},
   "outputs": [
    {
     "data": {
      "text/plain": [
       "array([0, 0, 2, 1, 1], dtype=int64)"
      ]
     },
     "execution_count": 193,
     "metadata": {},
     "output_type": "execute_result"
    }
   ],
   "source": [
    "np.argmax(random_matrix,axis=0)"
   ]
  },
  {
   "cell_type": "code",
   "execution_count": 195,
   "id": "1ca52191-11c4-4e5d-8474-24a2c6dbb6df",
   "metadata": {},
   "outputs": [
    {
     "data": {
      "text/plain": [
       "array([0, 3, 0], dtype=int64)"
      ]
     },
     "execution_count": 195,
     "metadata": {},
     "output_type": "execute_result"
    }
   ],
   "source": [
    "np.argmax(random_matrix,axis=1)"
   ]
  },
  {
   "cell_type": "markdown",
   "id": "59316e28-a2b9-4195-a4d7-d3fe39d70d65",
   "metadata": {},
   "source": [
    "Image data read"
   ]
  },
  {
   "cell_type": "code",
   "execution_count": 198,
   "id": "d651caf8-8144-43df-9409-78d80105ebcb",
   "metadata": {},
   "outputs": [],
   "source": [
    "from matplotlib.image import imread"
   ]
  },
  {
   "cell_type": "code",
   "execution_count": 200,
   "id": "1756c1ed-bee9-4c8e-afdf-474e5e53c743",
   "metadata": {},
   "outputs": [],
   "source": [
    "img_data=imread('WhatsApp Image 2024-08-15 at 12.14.07_51342fbd.jpg')"
   ]
  },
  {
   "cell_type": "code",
   "execution_count": 202,
   "id": "fec0589f-ce51-499f-a6f8-b412fac5e4a2",
   "metadata": {},
   "outputs": [
    {
     "data": {
      "text/plain": [
       "array([[[163, 160, 115],\n",
       "        [164, 161, 116],\n",
       "        [166, 163, 118],\n",
       "        ...,\n",
       "        [222, 231, 210],\n",
       "        [222, 232, 208],\n",
       "        [221, 231, 206]],\n",
       "\n",
       "       [[163, 160, 115],\n",
       "        [164, 161, 116],\n",
       "        [165, 162, 117],\n",
       "        ...,\n",
       "        [221, 230, 209],\n",
       "        [220, 230, 206],\n",
       "        [219, 229, 204]],\n",
       "\n",
       "       [[164, 161, 116],\n",
       "        [163, 160, 115],\n",
       "        [162, 159, 114],\n",
       "        ...,\n",
       "        [220, 229, 208],\n",
       "        [218, 228, 203],\n",
       "        [216, 226, 199]],\n",
       "\n",
       "       ...,\n",
       "\n",
       "       [[202, 236,  90],\n",
       "        [201, 235,  89],\n",
       "        [196, 231,  85],\n",
       "        ...,\n",
       "        [161, 190,  62],\n",
       "        [158, 187,  59],\n",
       "        [155, 184,  56]],\n",
       "\n",
       "       [[202, 236,  89],\n",
       "        [202, 236,  89],\n",
       "        [199, 234,  88],\n",
       "        ...,\n",
       "        [161, 190,  64],\n",
       "        [157, 186,  60],\n",
       "        [155, 184,  58]],\n",
       "\n",
       "       [[201, 235,  86],\n",
       "        [202, 236,  87],\n",
       "        [199, 235,  87],\n",
       "        ...,\n",
       "        [161, 189,  66],\n",
       "        [158, 186,  63],\n",
       "        [156, 184,  61]]], dtype=uint8)"
      ]
     },
     "execution_count": 202,
     "metadata": {},
     "output_type": "execute_result"
    }
   ],
   "source": [
    "img_data"
   ]
  },
  {
   "cell_type": "code",
   "execution_count": 208,
   "id": "f4a980ab-ba3c-4594-8e16-1d050b6f7715",
   "metadata": {},
   "outputs": [],
   "source": [
    "import matplotlib.pyplot as plt"
   ]
  },
  {
   "cell_type": "code",
   "execution_count": 210,
   "id": "5b3b380c-2761-49dc-8d2a-f58fc4fc7815",
   "metadata": {},
   "outputs": [
    {
     "data": {
      "image/png": "[encoded data removed]",
      "text/plain": [
       "<Figure size 640x480 with 1 Axes>"
      ]
     },
     "metadata": {},
     "output_type": "display_data"
    }
   ],
   "source": [
    "plt.figure()\n",
    "plt.imshow(img_data)\n",
    "plt.show()"
   ]
  },
  {
   "cell_type": "code",
   "execution_count": 212,
   "id": "a001f900-8396-4bd3-a7d0-9acc7053ec22",
   "metadata": {},
   "outputs": [
    {
     "data": {
      "text/plain": [
       "(485, 471, 3)"
      ]
     },
     "execution_count": 212,
     "metadata": {},
     "output_type": "execute_result"
    }
   ],
   "source": [
    "img_data.shape"
   ]
  },
  {
   "cell_type": "code",
   "execution_count": null,
   "id": "04d5342e-8311-443a-afdc-ac7b13e57ff9",
   "metadata": {},
   "outputs": [],
   "source": []
  }
 ],
 "metadata": {
  "kernelspec": {
   "display_name": "Python 3 (ipykernel)",
   "language": "python",
   "name": "python3"
  },
  "language_info": {
   "codemirror_mode": {
    "name": "ipython",
    "version": 3
   },
   "file_extension": ".py",
   "mimetype": "text/x-python",
   "name": "python",
   "nbconvert_exporter": "python",
   "pygments_lexer": "ipython3",
   "version": "3.12.4"
  }
 },
 "nbformat": 4,
 "nbformat_minor": 5
}
